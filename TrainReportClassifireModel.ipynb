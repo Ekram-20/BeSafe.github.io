{
  "nbformat": 4,
  "nbformat_minor": 0,
  "metadata": {
    "colab": {
      "provenance": []
    },
    "kernelspec": {
      "name": "python3",
      "display_name": "Python 3"
    },
    "language_info": {
      "name": "python"
    }
  },
  "cells": [
    {
      "cell_type": "code",
      "source": [
        "import numpy as np\n",
        "import pandas as pd\n",
        "import nltk as nltk\n",
        "import re\n",
        "import string\n",
        "import nltk\n",
        "\n",
        "\n",
        "from nltk.tokenize import word_tokenize\n",
        "nltk.download('punkt')\n",
        "from nltk.corpus import stopwords\n",
        "from nltk.stem import PorterStemmer\n",
        "from sklearn.model_selection import cross_val_score\n",
        "from sklearn.preprocessing import LabelEncoder"
      ],
      "metadata": {
        "colab": {
          "base_uri": "https://localhost:8080/"
        },
        "id": "fx2nVUo_3BwV",
        "outputId": "154ae9e3-9982-4404-a912-dc01d2819f5e"
      },
      "execution_count": null,
      "outputs": [
        {
          "output_type": "stream",
          "name": "stderr",
          "text": [
            "[nltk_data] Downloading package punkt to /root/nltk_data...\n",
            "[nltk_data]   Package punkt is already up-to-date!\n"
          ]
        }
      ]
    },
    {
      "cell_type": "markdown",
      "source": [
        "# Loading Data"
      ],
      "metadata": {
        "id": "1yqPcLbu3RS0"
      }
    },
    {
      "cell_type": "code",
      "execution_count": null,
      "metadata": {
        "id": "KUc2_IcX2SIF"
      },
      "outputs": [],
      "source": [
        "df_car = pd.read_csv(\"/content/car_accidents_reports.csv\")\n",
        "df_crime = pd.read_csv(\"/content/crime_reports.csv\")\n",
        "df_fire = pd.read_csv(\"/content/fire_reports.csv\")\n",
        "df_robbery = pd.read_csv(\"/content/robbery_reports.csv\")"
      ]
    },
    {
      "cell_type": "code",
      "source": [
        "pd.set_option('display.max_colwidth', 500)   # set the column width in the output to 500 charachters"
      ],
      "metadata": {
        "id": "dSLMLk-A3PNm"
      },
      "execution_count": null,
      "outputs": []
    },
    {
      "cell_type": "markdown",
      "source": [
        "# View and Explore Data"
      ],
      "metadata": {
        "id": "0HS09OV93Y1S"
      }
    },
    {
      "cell_type": "code",
      "source": [
        "df_car.shape"
      ],
      "metadata": {
        "colab": {
          "base_uri": "https://localhost:8080/"
        },
        "id": "w-YRvqQs3cbr",
        "outputId": "656d66a4-db48-4c79-fa0a-28114fa81570"
      },
      "execution_count": null,
      "outputs": [
        {
          "output_type": "execute_result",
          "data": {
            "text/plain": [
              "(1000, 1)"
            ]
          },
          "metadata": {},
          "execution_count": 6
        }
      ]
    },
    {
      "cell_type": "code",
      "source": [
        "df_crime.shape"
      ],
      "metadata": {
        "colab": {
          "base_uri": "https://localhost:8080/"
        },
        "id": "xyKXRycc3yrx",
        "outputId": "da16424d-6b43-45f3-d761-ede72d3fd936"
      },
      "execution_count": null,
      "outputs": [
        {
          "output_type": "execute_result",
          "data": {
            "text/plain": [
              "(1000, 1)"
            ]
          },
          "metadata": {},
          "execution_count": 7
        }
      ]
    },
    {
      "cell_type": "code",
      "source": [
        "df_fire.shape"
      ],
      "metadata": {
        "colab": {
          "base_uri": "https://localhost:8080/"
        },
        "id": "o1dg1NWH3zcd",
        "outputId": "d1a86886-1cd0-4a35-aeef-d9d3d25f4035"
      },
      "execution_count": null,
      "outputs": [
        {
          "output_type": "execute_result",
          "data": {
            "text/plain": [
              "(1000, 1)"
            ]
          },
          "metadata": {},
          "execution_count": 8
        }
      ]
    },
    {
      "cell_type": "code",
      "source": [
        "df_robbery.shape"
      ],
      "metadata": {
        "colab": {
          "base_uri": "https://localhost:8080/"
        },
        "id": "8x-5svAP3zQl",
        "outputId": "e8426023-84e2-4a23-870b-411938273b38"
      },
      "execution_count": null,
      "outputs": [
        {
          "output_type": "execute_result",
          "data": {
            "text/plain": [
              "(1000, 1)"
            ]
          },
          "metadata": {},
          "execution_count": 9
        }
      ]
    },
    {
      "cell_type": "code",
      "source": [
        "# Adding new column \"label\" to each dataframe\n",
        "df_car.insert(loc=1, column='label', value='car accidents')\n",
        "df_crime.insert(loc=1, column='label', value='crime')\n",
        "df_fire.insert(loc=1, column='label', value='fire')\n",
        "df_robbery.insert(loc=1, column='label', value='robbery')"
      ],
      "metadata": {
        "id": "yv3gb4653_0Z"
      },
      "execution_count": null,
      "outputs": []
    },
    {
      "cell_type": "code",
      "source": [
        "# Concatenate all the 4 dataframe\n",
        "df = pd.concat([df_car, df_crime,df_fire,df_robbery ], axis=0)\n",
        "df.reset_index(drop=True, inplace=True)\n",
        "df.head(100)"
      ],
      "metadata": {
        "colab": {
          "base_uri": "https://localhost:8080/",
          "height": 423
        },
        "id": "DwE2a1FI5_6f",
        "outputId": "1d2fb594-ace8-44ee-91ca-09b890e5aec4"
      },
      "execution_count": null,
      "outputs": [
        {
          "output_type": "execute_result",
          "data": {
            "text/plain": [
              "                                                                                                                                                              Report  \\\n",
              "0                                            This is John Doe from 9999 Ash Street. There's a multi-car pileup on the highway. It looks like there might be injuries   \n",
              "1                                                                        Hello, I'm Jane Smith at 123 Main Street. I've just witnessed a car crash into a shop front   \n",
              "2                                                           Help, I'm Isabella Jackson and I'm calling from 789 Pine Lane. A car just hit a pedestrian and drove off   \n",
              "3                                                       Hello, this is Robert Johnson at 2345 Hickory Street. I just saw a car hit a cyclist. The driver didn't stop   \n",
              "4                                                                           Emergency, this is Olivia Taylor from 789 Pine Lane. I just saw a car crash into a fence   \n",
              "..                                                                                                                                                               ...   \n",
              "95                                                                        Emergency, this is Robert Johnson from 654 Maple Road. I just saw a car crash into a fence   \n",
              "96                                   Help, I'm John Doe and I'm calling from 7777 Hemlock Circle. A car just crashed into a tree. The driver seems to be unconscious   \n",
              "97  Help, I am Ava Thomas and I'm calling from 8765 Juniper Road. A car just crashed into a tree. The driver seems to be unconscious and the car is leaking gasoline   \n",
              "98                         Hello, I'm Harper Anderson at 456 Oak Avenue. I've just witnessed a motorcycle crash. The rider was thrown off and is lying on the ground   \n",
              "99                                                   Help, my name is Mohammed Ali. I'm at 123 Main Street and a truck just lost control and crashed into a building   \n",
              "\n",
              "            label  \n",
              "0   car accidents  \n",
              "1   car accidents  \n",
              "2   car accidents  \n",
              "3   car accidents  \n",
              "4   car accidents  \n",
              "..            ...  \n",
              "95  car accidents  \n",
              "96  car accidents  \n",
              "97  car accidents  \n",
              "98  car accidents  \n",
              "99  car accidents  \n",
              "\n",
              "[100 rows x 2 columns]"
            ],
            "text/html": [
              "\n",
              "\n",
              "  <div id=\"df-8622acf2-10c0-4f0a-8264-3eab06fe5311\">\n",
              "    <div class=\"colab-df-container\">\n",
              "      <div>\n",
              "<style scoped>\n",
              "    .dataframe tbody tr th:only-of-type {\n",
              "        vertical-align: middle;\n",
              "    }\n",
              "\n",
              "    .dataframe tbody tr th {\n",
              "        vertical-align: top;\n",
              "    }\n",
              "\n",
              "    .dataframe thead th {\n",
              "        text-align: right;\n",
              "    }\n",
              "</style>\n",
              "<table border=\"1\" class=\"dataframe\">\n",
              "  <thead>\n",
              "    <tr style=\"text-align: right;\">\n",
              "      <th></th>\n",
              "      <th>Report</th>\n",
              "      <th>label</th>\n",
              "    </tr>\n",
              "  </thead>\n",
              "  <tbody>\n",
              "    <tr>\n",
              "      <th>0</th>\n",
              "      <td>This is John Doe from 9999 Ash Street. There's a multi-car pileup on the highway. It looks like there might be injuries</td>\n",
              "      <td>car accidents</td>\n",
              "    </tr>\n",
              "    <tr>\n",
              "      <th>1</th>\n",
              "      <td>Hello, I'm Jane Smith at 123 Main Street. I've just witnessed a car crash into a shop front</td>\n",
              "      <td>car accidents</td>\n",
              "    </tr>\n",
              "    <tr>\n",
              "      <th>2</th>\n",
              "      <td>Help, I'm Isabella Jackson and I'm calling from 789 Pine Lane. A car just hit a pedestrian and drove off</td>\n",
              "      <td>car accidents</td>\n",
              "    </tr>\n",
              "    <tr>\n",
              "      <th>3</th>\n",
              "      <td>Hello, this is Robert Johnson at 2345 Hickory Street. I just saw a car hit a cyclist. The driver didn't stop</td>\n",
              "      <td>car accidents</td>\n",
              "    </tr>\n",
              "    <tr>\n",
              "      <th>4</th>\n",
              "      <td>Emergency, this is Olivia Taylor from 789 Pine Lane. I just saw a car crash into a fence</td>\n",
              "      <td>car accidents</td>\n",
              "    </tr>\n",
              "    <tr>\n",
              "      <th>...</th>\n",
              "      <td>...</td>\n",
              "      <td>...</td>\n",
              "    </tr>\n",
              "    <tr>\n",
              "      <th>95</th>\n",
              "      <td>Emergency, this is Robert Johnson from 654 Maple Road. I just saw a car crash into a fence</td>\n",
              "      <td>car accidents</td>\n",
              "    </tr>\n",
              "    <tr>\n",
              "      <th>96</th>\n",
              "      <td>Help, I'm John Doe and I'm calling from 7777 Hemlock Circle. A car just crashed into a tree. The driver seems to be unconscious</td>\n",
              "      <td>car accidents</td>\n",
              "    </tr>\n",
              "    <tr>\n",
              "      <th>97</th>\n",
              "      <td>Help, I am Ava Thomas and I'm calling from 8765 Juniper Road. A car just crashed into a tree. The driver seems to be unconscious and the car is leaking gasoline</td>\n",
              "      <td>car accidents</td>\n",
              "    </tr>\n",
              "    <tr>\n",
              "      <th>98</th>\n",
              "      <td>Hello, I'm Harper Anderson at 456 Oak Avenue. I've just witnessed a motorcycle crash. The rider was thrown off and is lying on the ground</td>\n",
              "      <td>car accidents</td>\n",
              "    </tr>\n",
              "    <tr>\n",
              "      <th>99</th>\n",
              "      <td>Help, my name is Mohammed Ali. I'm at 123 Main Street and a truck just lost control and crashed into a building</td>\n",
              "      <td>car accidents</td>\n",
              "    </tr>\n",
              "  </tbody>\n",
              "</table>\n",
              "<p>100 rows × 2 columns</p>\n",
              "</div>\n",
              "      <button class=\"colab-df-convert\" onclick=\"convertToInteractive('df-8622acf2-10c0-4f0a-8264-3eab06fe5311')\"\n",
              "              title=\"Convert this dataframe to an interactive table.\"\n",
              "              style=\"display:none;\">\n",
              "\n",
              "  <svg xmlns=\"http://www.w3.org/2000/svg\" height=\"24px\"viewBox=\"0 0 24 24\"\n",
              "       width=\"24px\">\n",
              "    <path d=\"M0 0h24v24H0V0z\" fill=\"none\"/>\n",
              "    <path d=\"M18.56 5.44l.94 2.06.94-2.06 2.06-.94-2.06-.94-.94-2.06-.94 2.06-2.06.94zm-11 1L8.5 8.5l.94-2.06 2.06-.94-2.06-.94L8.5 2.5l-.94 2.06-2.06.94zm10 10l.94 2.06.94-2.06 2.06-.94-2.06-.94-.94-2.06-.94 2.06-2.06.94z\"/><path d=\"M17.41 7.96l-1.37-1.37c-.4-.4-.92-.59-1.43-.59-.52 0-1.04.2-1.43.59L10.3 9.45l-7.72 7.72c-.78.78-.78 2.05 0 2.83L4 21.41c.39.39.9.59 1.41.59.51 0 1.02-.2 1.41-.59l7.78-7.78 2.81-2.81c.8-.78.8-2.07 0-2.86zM5.41 20L4 18.59l7.72-7.72 1.47 1.35L5.41 20z\"/>\n",
              "  </svg>\n",
              "      </button>\n",
              "\n",
              "\n",
              "\n",
              "    <div id=\"df-3528bd6e-55d5-430d-9593-dc4a31388270\">\n",
              "      <button class=\"colab-df-quickchart\" onclick=\"quickchart('df-3528bd6e-55d5-430d-9593-dc4a31388270')\"\n",
              "              title=\"Suggest charts.\"\n",
              "              style=\"display:none;\">\n",
              "\n",
              "<svg xmlns=\"http://www.w3.org/2000/svg\" height=\"24px\"viewBox=\"0 0 24 24\"\n",
              "     width=\"24px\">\n",
              "    <g>\n",
              "        <path d=\"M19 3H5c-1.1 0-2 .9-2 2v14c0 1.1.9 2 2 2h14c1.1 0 2-.9 2-2V5c0-1.1-.9-2-2-2zM9 17H7v-7h2v7zm4 0h-2V7h2v10zm4 0h-2v-4h2v4z\"/>\n",
              "    </g>\n",
              "</svg>\n",
              "      </button>\n",
              "    </div>\n",
              "\n",
              "<style>\n",
              "  .colab-df-quickchart {\n",
              "    background-color: #E8F0FE;\n",
              "    border: none;\n",
              "    border-radius: 50%;\n",
              "    cursor: pointer;\n",
              "    display: none;\n",
              "    fill: #1967D2;\n",
              "    height: 32px;\n",
              "    padding: 0 0 0 0;\n",
              "    width: 32px;\n",
              "  }\n",
              "\n",
              "  .colab-df-quickchart:hover {\n",
              "    background-color: #E2EBFA;\n",
              "    box-shadow: 0px 1px 2px rgba(60, 64, 67, 0.3), 0px 1px 3px 1px rgba(60, 64, 67, 0.15);\n",
              "    fill: #174EA6;\n",
              "  }\n",
              "\n",
              "  [theme=dark] .colab-df-quickchart {\n",
              "    background-color: #3B4455;\n",
              "    fill: #D2E3FC;\n",
              "  }\n",
              "\n",
              "  [theme=dark] .colab-df-quickchart:hover {\n",
              "    background-color: #434B5C;\n",
              "    box-shadow: 0px 1px 3px 1px rgba(0, 0, 0, 0.15);\n",
              "    filter: drop-shadow(0px 1px 2px rgba(0, 0, 0, 0.3));\n",
              "    fill: #FFFFFF;\n",
              "  }\n",
              "</style>\n",
              "\n",
              "    <script>\n",
              "      async function quickchart(key) {\n",
              "        const containerElement = document.querySelector('#' + key);\n",
              "        const charts = await google.colab.kernel.invokeFunction(\n",
              "            'suggestCharts', [key], {});\n",
              "      }\n",
              "    </script>\n",
              "\n",
              "      <script>\n",
              "\n",
              "function displayQuickchartButton(domScope) {\n",
              "  let quickchartButtonEl =\n",
              "    domScope.querySelector('#df-3528bd6e-55d5-430d-9593-dc4a31388270 button.colab-df-quickchart');\n",
              "  quickchartButtonEl.style.display =\n",
              "    google.colab.kernel.accessAllowed ? 'block' : 'none';\n",
              "}\n",
              "\n",
              "        displayQuickchartButton(document);\n",
              "      </script>\n",
              "      <style>\n",
              "    .colab-df-container {\n",
              "      display:flex;\n",
              "      flex-wrap:wrap;\n",
              "      gap: 12px;\n",
              "    }\n",
              "\n",
              "    .colab-df-convert {\n",
              "      background-color: #E8F0FE;\n",
              "      border: none;\n",
              "      border-radius: 50%;\n",
              "      cursor: pointer;\n",
              "      display: none;\n",
              "      fill: #1967D2;\n",
              "      height: 32px;\n",
              "      padding: 0 0 0 0;\n",
              "      width: 32px;\n",
              "    }\n",
              "\n",
              "    .colab-df-convert:hover {\n",
              "      background-color: #E2EBFA;\n",
              "      box-shadow: 0px 1px 2px rgba(60, 64, 67, 0.3), 0px 1px 3px 1px rgba(60, 64, 67, 0.15);\n",
              "      fill: #174EA6;\n",
              "    }\n",
              "\n",
              "    [theme=dark] .colab-df-convert {\n",
              "      background-color: #3B4455;\n",
              "      fill: #D2E3FC;\n",
              "    }\n",
              "\n",
              "    [theme=dark] .colab-df-convert:hover {\n",
              "      background-color: #434B5C;\n",
              "      box-shadow: 0px 1px 3px 1px rgba(0, 0, 0, 0.15);\n",
              "      filter: drop-shadow(0px 1px 2px rgba(0, 0, 0, 0.3));\n",
              "      fill: #FFFFFF;\n",
              "    }\n",
              "  </style>\n",
              "\n",
              "      <script>\n",
              "        const buttonEl =\n",
              "          document.querySelector('#df-8622acf2-10c0-4f0a-8264-3eab06fe5311 button.colab-df-convert');\n",
              "        buttonEl.style.display =\n",
              "          google.colab.kernel.accessAllowed ? 'block' : 'none';\n",
              "\n",
              "        async function convertToInteractive(key) {\n",
              "          const element = document.querySelector('#df-8622acf2-10c0-4f0a-8264-3eab06fe5311');\n",
              "          const dataTable =\n",
              "            await google.colab.kernel.invokeFunction('convertToInteractive',\n",
              "                                                     [key], {});\n",
              "          if (!dataTable) return;\n",
              "\n",
              "          const docLinkHtml = 'Like what you see? Visit the ' +\n",
              "            '<a target=\"_blank\" href=https://colab.research.google.com/notebooks/data_table.ipynb>data table notebook</a>'\n",
              "            + ' to learn more about interactive tables.';\n",
              "          element.innerHTML = '';\n",
              "          dataTable['output_type'] = 'display_data';\n",
              "          await google.colab.output.renderOutput(dataTable, element);\n",
              "          const docLink = document.createElement('div');\n",
              "          docLink.innerHTML = docLinkHtml;\n",
              "          element.appendChild(docLink);\n",
              "        }\n",
              "      </script>\n",
              "    </div>\n",
              "  </div>\n"
            ]
          },
          "metadata": {},
          "execution_count": 11
        }
      ]
    },
    {
      "cell_type": "code",
      "source": [
        "df.shape"
      ],
      "metadata": {
        "colab": {
          "base_uri": "https://localhost:8080/"
        },
        "id": "cAIURHA46P-P",
        "outputId": "3573ba6a-819e-4198-ebb1-432af6070790"
      },
      "execution_count": null,
      "outputs": [
        {
          "output_type": "execute_result",
          "data": {
            "text/plain": [
              "(4000, 2)"
            ]
          },
          "metadata": {},
          "execution_count": 12
        }
      ]
    },
    {
      "cell_type": "code",
      "source": [
        "df.describe()"
      ],
      "metadata": {
        "colab": {
          "base_uri": "https://localhost:8080/",
          "height": 174
        },
        "id": "639JIWii6XYq",
        "outputId": "b67976fd-166c-4167-e0c3-7d6054211961"
      },
      "execution_count": null,
      "outputs": [
        {
          "output_type": "execute_result",
          "data": {
            "text/plain": [
              "                                                                                                              Report  \\\n",
              "count                                                                                                           4000   \n",
              "unique                                                                                                          3796   \n",
              "top     Emergency, this is Emily Davis from 7777 Hemlock Circle. I just saw a group of people robbing a liquor store   \n",
              "freq                                                                                                               3   \n",
              "\n",
              "                label  \n",
              "count            4000  \n",
              "unique              4  \n",
              "top     car accidents  \n",
              "freq             1000  "
            ],
            "text/html": [
              "\n",
              "\n",
              "  <div id=\"df-c9941221-487d-4682-8763-3fb87d64d2fb\">\n",
              "    <div class=\"colab-df-container\">\n",
              "      <div>\n",
              "<style scoped>\n",
              "    .dataframe tbody tr th:only-of-type {\n",
              "        vertical-align: middle;\n",
              "    }\n",
              "\n",
              "    .dataframe tbody tr th {\n",
              "        vertical-align: top;\n",
              "    }\n",
              "\n",
              "    .dataframe thead th {\n",
              "        text-align: right;\n",
              "    }\n",
              "</style>\n",
              "<table border=\"1\" class=\"dataframe\">\n",
              "  <thead>\n",
              "    <tr style=\"text-align: right;\">\n",
              "      <th></th>\n",
              "      <th>Report</th>\n",
              "      <th>label</th>\n",
              "    </tr>\n",
              "  </thead>\n",
              "  <tbody>\n",
              "    <tr>\n",
              "      <th>count</th>\n",
              "      <td>4000</td>\n",
              "      <td>4000</td>\n",
              "    </tr>\n",
              "    <tr>\n",
              "      <th>unique</th>\n",
              "      <td>3796</td>\n",
              "      <td>4</td>\n",
              "    </tr>\n",
              "    <tr>\n",
              "      <th>top</th>\n",
              "      <td>Emergency, this is Emily Davis from 7777 Hemlock Circle. I just saw a group of people robbing a liquor store</td>\n",
              "      <td>car accidents</td>\n",
              "    </tr>\n",
              "    <tr>\n",
              "      <th>freq</th>\n",
              "      <td>3</td>\n",
              "      <td>1000</td>\n",
              "    </tr>\n",
              "  </tbody>\n",
              "</table>\n",
              "</div>\n",
              "      <button class=\"colab-df-convert\" onclick=\"convertToInteractive('df-c9941221-487d-4682-8763-3fb87d64d2fb')\"\n",
              "              title=\"Convert this dataframe to an interactive table.\"\n",
              "              style=\"display:none;\">\n",
              "\n",
              "  <svg xmlns=\"http://www.w3.org/2000/svg\" height=\"24px\"viewBox=\"0 0 24 24\"\n",
              "       width=\"24px\">\n",
              "    <path d=\"M0 0h24v24H0V0z\" fill=\"none\"/>\n",
              "    <path d=\"M18.56 5.44l.94 2.06.94-2.06 2.06-.94-2.06-.94-.94-2.06-.94 2.06-2.06.94zm-11 1L8.5 8.5l.94-2.06 2.06-.94-2.06-.94L8.5 2.5l-.94 2.06-2.06.94zm10 10l.94 2.06.94-2.06 2.06-.94-2.06-.94-.94-2.06-.94 2.06-2.06.94z\"/><path d=\"M17.41 7.96l-1.37-1.37c-.4-.4-.92-.59-1.43-.59-.52 0-1.04.2-1.43.59L10.3 9.45l-7.72 7.72c-.78.78-.78 2.05 0 2.83L4 21.41c.39.39.9.59 1.41.59.51 0 1.02-.2 1.41-.59l7.78-7.78 2.81-2.81c.8-.78.8-2.07 0-2.86zM5.41 20L4 18.59l7.72-7.72 1.47 1.35L5.41 20z\"/>\n",
              "  </svg>\n",
              "      </button>\n",
              "\n",
              "\n",
              "\n",
              "    <div id=\"df-4984609b-420e-4b2f-996a-dbc0a0b7b419\">\n",
              "      <button class=\"colab-df-quickchart\" onclick=\"quickchart('df-4984609b-420e-4b2f-996a-dbc0a0b7b419')\"\n",
              "              title=\"Suggest charts.\"\n",
              "              style=\"display:none;\">\n",
              "\n",
              "<svg xmlns=\"http://www.w3.org/2000/svg\" height=\"24px\"viewBox=\"0 0 24 24\"\n",
              "     width=\"24px\">\n",
              "    <g>\n",
              "        <path d=\"M19 3H5c-1.1 0-2 .9-2 2v14c0 1.1.9 2 2 2h14c1.1 0 2-.9 2-2V5c0-1.1-.9-2-2-2zM9 17H7v-7h2v7zm4 0h-2V7h2v10zm4 0h-2v-4h2v4z\"/>\n",
              "    </g>\n",
              "</svg>\n",
              "      </button>\n",
              "    </div>\n",
              "\n",
              "<style>\n",
              "  .colab-df-quickchart {\n",
              "    background-color: #E8F0FE;\n",
              "    border: none;\n",
              "    border-radius: 50%;\n",
              "    cursor: pointer;\n",
              "    display: none;\n",
              "    fill: #1967D2;\n",
              "    height: 32px;\n",
              "    padding: 0 0 0 0;\n",
              "    width: 32px;\n",
              "  }\n",
              "\n",
              "  .colab-df-quickchart:hover {\n",
              "    background-color: #E2EBFA;\n",
              "    box-shadow: 0px 1px 2px rgba(60, 64, 67, 0.3), 0px 1px 3px 1px rgba(60, 64, 67, 0.15);\n",
              "    fill: #174EA6;\n",
              "  }\n",
              "\n",
              "  [theme=dark] .colab-df-quickchart {\n",
              "    background-color: #3B4455;\n",
              "    fill: #D2E3FC;\n",
              "  }\n",
              "\n",
              "  [theme=dark] .colab-df-quickchart:hover {\n",
              "    background-color: #434B5C;\n",
              "    box-shadow: 0px 1px 3px 1px rgba(0, 0, 0, 0.15);\n",
              "    filter: drop-shadow(0px 1px 2px rgba(0, 0, 0, 0.3));\n",
              "    fill: #FFFFFF;\n",
              "  }\n",
              "</style>\n",
              "\n",
              "    <script>\n",
              "      async function quickchart(key) {\n",
              "        const containerElement = document.querySelector('#' + key);\n",
              "        const charts = await google.colab.kernel.invokeFunction(\n",
              "            'suggestCharts', [key], {});\n",
              "      }\n",
              "    </script>\n",
              "\n",
              "      <script>\n",
              "\n",
              "function displayQuickchartButton(domScope) {\n",
              "  let quickchartButtonEl =\n",
              "    domScope.querySelector('#df-4984609b-420e-4b2f-996a-dbc0a0b7b419 button.colab-df-quickchart');\n",
              "  quickchartButtonEl.style.display =\n",
              "    google.colab.kernel.accessAllowed ? 'block' : 'none';\n",
              "}\n",
              "\n",
              "        displayQuickchartButton(document);\n",
              "      </script>\n",
              "      <style>\n",
              "    .colab-df-container {\n",
              "      display:flex;\n",
              "      flex-wrap:wrap;\n",
              "      gap: 12px;\n",
              "    }\n",
              "\n",
              "    .colab-df-convert {\n",
              "      background-color: #E8F0FE;\n",
              "      border: none;\n",
              "      border-radius: 50%;\n",
              "      cursor: pointer;\n",
              "      display: none;\n",
              "      fill: #1967D2;\n",
              "      height: 32px;\n",
              "      padding: 0 0 0 0;\n",
              "      width: 32px;\n",
              "    }\n",
              "\n",
              "    .colab-df-convert:hover {\n",
              "      background-color: #E2EBFA;\n",
              "      box-shadow: 0px 1px 2px rgba(60, 64, 67, 0.3), 0px 1px 3px 1px rgba(60, 64, 67, 0.15);\n",
              "      fill: #174EA6;\n",
              "    }\n",
              "\n",
              "    [theme=dark] .colab-df-convert {\n",
              "      background-color: #3B4455;\n",
              "      fill: #D2E3FC;\n",
              "    }\n",
              "\n",
              "    [theme=dark] .colab-df-convert:hover {\n",
              "      background-color: #434B5C;\n",
              "      box-shadow: 0px 1px 3px 1px rgba(0, 0, 0, 0.15);\n",
              "      filter: drop-shadow(0px 1px 2px rgba(0, 0, 0, 0.3));\n",
              "      fill: #FFFFFF;\n",
              "    }\n",
              "  </style>\n",
              "\n",
              "      <script>\n",
              "        const buttonEl =\n",
              "          document.querySelector('#df-c9941221-487d-4682-8763-3fb87d64d2fb button.colab-df-convert');\n",
              "        buttonEl.style.display =\n",
              "          google.colab.kernel.accessAllowed ? 'block' : 'none';\n",
              "\n",
              "        async function convertToInteractive(key) {\n",
              "          const element = document.querySelector('#df-c9941221-487d-4682-8763-3fb87d64d2fb');\n",
              "          const dataTable =\n",
              "            await google.colab.kernel.invokeFunction('convertToInteractive',\n",
              "                                                     [key], {});\n",
              "          if (!dataTable) return;\n",
              "\n",
              "          const docLinkHtml = 'Like what you see? Visit the ' +\n",
              "            '<a target=\"_blank\" href=https://colab.research.google.com/notebooks/data_table.ipynb>data table notebook</a>'\n",
              "            + ' to learn more about interactive tables.';\n",
              "          element.innerHTML = '';\n",
              "          dataTable['output_type'] = 'display_data';\n",
              "          await google.colab.output.renderOutput(dataTable, element);\n",
              "          const docLink = document.createElement('div');\n",
              "          docLink.innerHTML = docLinkHtml;\n",
              "          element.appendChild(docLink);\n",
              "        }\n",
              "      </script>\n",
              "    </div>\n",
              "  </div>\n"
            ]
          },
          "metadata": {},
          "execution_count": 13
        }
      ]
    },
    {
      "cell_type": "code",
      "source": [
        "df.label.value_counts()"
      ],
      "metadata": {
        "colab": {
          "base_uri": "https://localhost:8080/"
        },
        "id": "kMdCeeWH7L3j",
        "outputId": "44585fd2-20ba-4700-c451-ca39958e4355"
      },
      "execution_count": null,
      "outputs": [
        {
          "output_type": "execute_result",
          "data": {
            "text/plain": [
              "car accidents    1000\n",
              "crime            1000\n",
              "fire             1000\n",
              "robbery          1000\n",
              "Name: label, dtype: int64"
            ]
          },
          "metadata": {},
          "execution_count": 14
        }
      ]
    },
    {
      "cell_type": "code",
      "source": [
        "# check the data types of each column\n",
        "print(df.dtypes)"
      ],
      "metadata": {
        "colab": {
          "base_uri": "https://localhost:8080/"
        },
        "id": "d3x0HJdhD5dW",
        "outputId": "14986c06-ad8f-41bd-bcc0-72add67c9617"
      },
      "execution_count": null,
      "outputs": [
        {
          "output_type": "stream",
          "name": "stdout",
          "text": [
            "Report    object\n",
            "label     object\n",
            "dtype: object\n"
          ]
        }
      ]
    },
    {
      "cell_type": "markdown",
      "source": [
        "# Cleaning Data"
      ],
      "metadata": {
        "id": "7N4E8FN18DfS"
      }
    },
    {
      "cell_type": "code",
      "source": [
        "# Check for missing values again\n",
        "print(\"Number of missing values in each column:\")\n",
        "print(df.isnull().sum())"
      ],
      "metadata": {
        "colab": {
          "base_uri": "https://localhost:8080/"
        },
        "id": "ku2efNIqIsDv",
        "outputId": "94aab9b4-496a-40db-f000-e78b015130db"
      },
      "execution_count": null,
      "outputs": [
        {
          "output_type": "stream",
          "name": "stdout",
          "text": [
            "Number of missing values in each column:\n",
            "Report    0\n",
            "label     0\n",
            "dtype: int64\n"
          ]
        }
      ]
    },
    {
      "cell_type": "code",
      "source": [
        "def clean_text(text):\n",
        "\n",
        "    # remove punct\n",
        "    punctuation_re = re.compile('[%s]' % re.escape(string.punctuation))\n",
        "    no_punc = punctuation_re.sub('', text)\n",
        "\n",
        "    # convert to lowercase\n",
        "    lower_text = no_punc.lower()\n",
        "\n",
        "    # remove numbers\n",
        "    number_re = re.compile(r'\\d+')\n",
        "    no_numbers = number_re.sub('', lower_text)\n",
        "\n",
        "    # tokenize\n",
        "    tokens = nltk.word_tokenize(no_numbers)\n",
        "\n",
        "    # stopwords\n",
        "    stop_words = stopwords.words('english')\n",
        "    no_stop = [token for token in tokens if token not in stop_words]\n",
        "\n",
        "    # Stemming\n",
        "    stemmer = PorterStemmer()\n",
        "    stemmed = [stemmer.stem(token) for token in no_stop]\n",
        "\n",
        "    return ' '.join(stemmed)"
      ],
      "metadata": {
        "id": "0njSMPr-8PVF"
      },
      "execution_count": null,
      "outputs": []
    },
    {
      "cell_type": "code",
      "source": [
        "nltk.download('stopwords')"
      ],
      "metadata": {
        "colab": {
          "base_uri": "https://localhost:8080/"
        },
        "id": "7MO-6PS8sNp-",
        "outputId": "64a48308-d0b8-440e-b79b-84b977fc6083"
      },
      "execution_count": null,
      "outputs": [
        {
          "output_type": "stream",
          "name": "stderr",
          "text": [
            "[nltk_data] Downloading package stopwords to /root/nltk_data...\n",
            "[nltk_data]   Unzipping corpora/stopwords.zip.\n"
          ]
        },
        {
          "output_type": "execute_result",
          "data": {
            "text/plain": [
              "True"
            ]
          },
          "metadata": {},
          "execution_count": 18
        }
      ]
    },
    {
      "cell_type": "code",
      "source": [
        "df['clean_text'] = df['Report'].apply(lambda x: clean_text(x))\n",
        "df"
      ],
      "metadata": {
        "colab": {
          "base_uri": "https://localhost:8080/",
          "height": 571
        },
        "id": "q-x_W8oV9YOL",
        "outputId": "90949dca-d176-44ed-e104-1422bac0674f"
      },
      "execution_count": null,
      "outputs": [
        {
          "output_type": "execute_result",
          "data": {
            "text/plain": [
              "                                                                                                                                                                                                               Report  \\\n",
              "0                                                                                             This is John Doe from 9999 Ash Street. There's a multi-car pileup on the highway. It looks like there might be injuries   \n",
              "1                                                                                                                         Hello, I'm Jane Smith at 123 Main Street. I've just witnessed a car crash into a shop front   \n",
              "2                                                                                                            Help, I'm Isabella Jackson and I'm calling from 789 Pine Lane. A car just hit a pedestrian and drove off   \n",
              "3                                                                                                        Hello, this is Robert Johnson at 2345 Hickory Street. I just saw a car hit a cyclist. The driver didn't stop   \n",
              "4                                                                                                                            Emergency, this is Olivia Taylor from 789 Pine Lane. I just saw a car crash into a fence   \n",
              "...                                                                                                                                                                                                               ...   \n",
              "3995                                                                                                 Emergency, this is Amelia Thompson from 7777 Hemlock Circle. I just saw a group of people robbing a liquor store   \n",
              "3996                                                                                                                        Help, my name is James Brown. I'm at 5555 Walnut Street and my house was just broken into   \n",
              "3997                                                                                  Help, my name is Liam Williams. I'm at 8888 Alder Court and my purse was just snatched. A man on a bike grabbed it and rode off   \n",
              "3998  This is Emily Davis from 3456 Locust Way. I work at the bank and we've just been robbed. A man with a gun demanded all the money and then he fled the scene. I'm scared for my life and I don't know what to do   \n",
              "3999                                                                                                             Help, I'm Charlotte Martin and I'm calling from 1289 Birch Parkway. I just saw a man stealing a bike   \n",
              "\n",
              "              label  \\\n",
              "0     car accidents   \n",
              "1     car accidents   \n",
              "2     car accidents   \n",
              "3     car accidents   \n",
              "4     car accidents   \n",
              "...             ...   \n",
              "3995        robbery   \n",
              "3996        robbery   \n",
              "3997        robbery   \n",
              "3998        robbery   \n",
              "3999        robbery   \n",
              "\n",
              "                                                                                            clean_text  \n",
              "0                             john doe ash street there multicar pileup highway look like might injuri  \n",
              "1                                         hello im jane smith main street ive wit car crash shop front  \n",
              "2                                  help im isabella jackson im call pine lane car hit pedestrian drove  \n",
              "3                            hello robert johnson hickori street saw car hit cyclist driver didnt stop  \n",
              "4                                                     emerg olivia taylor pine lane saw car crash fenc  \n",
              "...                                                                                                ...  \n",
              "3995                              emerg amelia thompson hemlock circl saw group peopl rob liquor store  \n",
              "3996                                                 help name jame brown im walnut street hous broken  \n",
              "3997                              help name liam william im alder court purs snatch man bike grab rode  \n",
              "3998  emili davi locust way work bank weve rob man gun demand money fled scene im scare life dont know  \n",
              "3999                                  help im charlott martin im call birch parkway saw man steal bike  \n",
              "\n",
              "[4000 rows x 3 columns]"
            ],
            "text/html": [
              "\n",
              "\n",
              "  <div id=\"df-c63f1a5f-adb3-480f-819b-dfd1be9c3ac4\">\n",
              "    <div class=\"colab-df-container\">\n",
              "      <div>\n",
              "<style scoped>\n",
              "    .dataframe tbody tr th:only-of-type {\n",
              "        vertical-align: middle;\n",
              "    }\n",
              "\n",
              "    .dataframe tbody tr th {\n",
              "        vertical-align: top;\n",
              "    }\n",
              "\n",
              "    .dataframe thead th {\n",
              "        text-align: right;\n",
              "    }\n",
              "</style>\n",
              "<table border=\"1\" class=\"dataframe\">\n",
              "  <thead>\n",
              "    <tr style=\"text-align: right;\">\n",
              "      <th></th>\n",
              "      <th>Report</th>\n",
              "      <th>label</th>\n",
              "      <th>clean_text</th>\n",
              "    </tr>\n",
              "  </thead>\n",
              "  <tbody>\n",
              "    <tr>\n",
              "      <th>0</th>\n",
              "      <td>This is John Doe from 9999 Ash Street. There's a multi-car pileup on the highway. It looks like there might be injuries</td>\n",
              "      <td>car accidents</td>\n",
              "      <td>john doe ash street there multicar pileup highway look like might injuri</td>\n",
              "    </tr>\n",
              "    <tr>\n",
              "      <th>1</th>\n",
              "      <td>Hello, I'm Jane Smith at 123 Main Street. I've just witnessed a car crash into a shop front</td>\n",
              "      <td>car accidents</td>\n",
              "      <td>hello im jane smith main street ive wit car crash shop front</td>\n",
              "    </tr>\n",
              "    <tr>\n",
              "      <th>2</th>\n",
              "      <td>Help, I'm Isabella Jackson and I'm calling from 789 Pine Lane. A car just hit a pedestrian and drove off</td>\n",
              "      <td>car accidents</td>\n",
              "      <td>help im isabella jackson im call pine lane car hit pedestrian drove</td>\n",
              "    </tr>\n",
              "    <tr>\n",
              "      <th>3</th>\n",
              "      <td>Hello, this is Robert Johnson at 2345 Hickory Street. I just saw a car hit a cyclist. The driver didn't stop</td>\n",
              "      <td>car accidents</td>\n",
              "      <td>hello robert johnson hickori street saw car hit cyclist driver didnt stop</td>\n",
              "    </tr>\n",
              "    <tr>\n",
              "      <th>4</th>\n",
              "      <td>Emergency, this is Olivia Taylor from 789 Pine Lane. I just saw a car crash into a fence</td>\n",
              "      <td>car accidents</td>\n",
              "      <td>emerg olivia taylor pine lane saw car crash fenc</td>\n",
              "    </tr>\n",
              "    <tr>\n",
              "      <th>...</th>\n",
              "      <td>...</td>\n",
              "      <td>...</td>\n",
              "      <td>...</td>\n",
              "    </tr>\n",
              "    <tr>\n",
              "      <th>3995</th>\n",
              "      <td>Emergency, this is Amelia Thompson from 7777 Hemlock Circle. I just saw a group of people robbing a liquor store</td>\n",
              "      <td>robbery</td>\n",
              "      <td>emerg amelia thompson hemlock circl saw group peopl rob liquor store</td>\n",
              "    </tr>\n",
              "    <tr>\n",
              "      <th>3996</th>\n",
              "      <td>Help, my name is James Brown. I'm at 5555 Walnut Street and my house was just broken into</td>\n",
              "      <td>robbery</td>\n",
              "      <td>help name jame brown im walnut street hous broken</td>\n",
              "    </tr>\n",
              "    <tr>\n",
              "      <th>3997</th>\n",
              "      <td>Help, my name is Liam Williams. I'm at 8888 Alder Court and my purse was just snatched. A man on a bike grabbed it and rode off</td>\n",
              "      <td>robbery</td>\n",
              "      <td>help name liam william im alder court purs snatch man bike grab rode</td>\n",
              "    </tr>\n",
              "    <tr>\n",
              "      <th>3998</th>\n",
              "      <td>This is Emily Davis from 3456 Locust Way. I work at the bank and we've just been robbed. A man with a gun demanded all the money and then he fled the scene. I'm scared for my life and I don't know what to do</td>\n",
              "      <td>robbery</td>\n",
              "      <td>emili davi locust way work bank weve rob man gun demand money fled scene im scare life dont know</td>\n",
              "    </tr>\n",
              "    <tr>\n",
              "      <th>3999</th>\n",
              "      <td>Help, I'm Charlotte Martin and I'm calling from 1289 Birch Parkway. I just saw a man stealing a bike</td>\n",
              "      <td>robbery</td>\n",
              "      <td>help im charlott martin im call birch parkway saw man steal bike</td>\n",
              "    </tr>\n",
              "  </tbody>\n",
              "</table>\n",
              "<p>4000 rows × 3 columns</p>\n",
              "</div>\n",
              "      <button class=\"colab-df-convert\" onclick=\"convertToInteractive('df-c63f1a5f-adb3-480f-819b-dfd1be9c3ac4')\"\n",
              "              title=\"Convert this dataframe to an interactive table.\"\n",
              "              style=\"display:none;\">\n",
              "\n",
              "  <svg xmlns=\"http://www.w3.org/2000/svg\" height=\"24px\"viewBox=\"0 0 24 24\"\n",
              "       width=\"24px\">\n",
              "    <path d=\"M0 0h24v24H0V0z\" fill=\"none\"/>\n",
              "    <path d=\"M18.56 5.44l.94 2.06.94-2.06 2.06-.94-2.06-.94-.94-2.06-.94 2.06-2.06.94zm-11 1L8.5 8.5l.94-2.06 2.06-.94-2.06-.94L8.5 2.5l-.94 2.06-2.06.94zm10 10l.94 2.06.94-2.06 2.06-.94-2.06-.94-.94-2.06-.94 2.06-2.06.94z\"/><path d=\"M17.41 7.96l-1.37-1.37c-.4-.4-.92-.59-1.43-.59-.52 0-1.04.2-1.43.59L10.3 9.45l-7.72 7.72c-.78.78-.78 2.05 0 2.83L4 21.41c.39.39.9.59 1.41.59.51 0 1.02-.2 1.41-.59l7.78-7.78 2.81-2.81c.8-.78.8-2.07 0-2.86zM5.41 20L4 18.59l7.72-7.72 1.47 1.35L5.41 20z\"/>\n",
              "  </svg>\n",
              "      </button>\n",
              "\n",
              "\n",
              "\n",
              "    <div id=\"df-4910ff7a-70b0-4e10-8460-65a548e3c8c1\">\n",
              "      <button class=\"colab-df-quickchart\" onclick=\"quickchart('df-4910ff7a-70b0-4e10-8460-65a548e3c8c1')\"\n",
              "              title=\"Suggest charts.\"\n",
              "              style=\"display:none;\">\n",
              "\n",
              "<svg xmlns=\"http://www.w3.org/2000/svg\" height=\"24px\"viewBox=\"0 0 24 24\"\n",
              "     width=\"24px\">\n",
              "    <g>\n",
              "        <path d=\"M19 3H5c-1.1 0-2 .9-2 2v14c0 1.1.9 2 2 2h14c1.1 0 2-.9 2-2V5c0-1.1-.9-2-2-2zM9 17H7v-7h2v7zm4 0h-2V7h2v10zm4 0h-2v-4h2v4z\"/>\n",
              "    </g>\n",
              "</svg>\n",
              "      </button>\n",
              "    </div>\n",
              "\n",
              "<style>\n",
              "  .colab-df-quickchart {\n",
              "    background-color: #E8F0FE;\n",
              "    border: none;\n",
              "    border-radius: 50%;\n",
              "    cursor: pointer;\n",
              "    display: none;\n",
              "    fill: #1967D2;\n",
              "    height: 32px;\n",
              "    padding: 0 0 0 0;\n",
              "    width: 32px;\n",
              "  }\n",
              "\n",
              "  .colab-df-quickchart:hover {\n",
              "    background-color: #E2EBFA;\n",
              "    box-shadow: 0px 1px 2px rgba(60, 64, 67, 0.3), 0px 1px 3px 1px rgba(60, 64, 67, 0.15);\n",
              "    fill: #174EA6;\n",
              "  }\n",
              "\n",
              "  [theme=dark] .colab-df-quickchart {\n",
              "    background-color: #3B4455;\n",
              "    fill: #D2E3FC;\n",
              "  }\n",
              "\n",
              "  [theme=dark] .colab-df-quickchart:hover {\n",
              "    background-color: #434B5C;\n",
              "    box-shadow: 0px 1px 3px 1px rgba(0, 0, 0, 0.15);\n",
              "    filter: drop-shadow(0px 1px 2px rgba(0, 0, 0, 0.3));\n",
              "    fill: #FFFFFF;\n",
              "  }\n",
              "</style>\n",
              "\n",
              "    <script>\n",
              "      async function quickchart(key) {\n",
              "        const containerElement = document.querySelector('#' + key);\n",
              "        const charts = await google.colab.kernel.invokeFunction(\n",
              "            'suggestCharts', [key], {});\n",
              "      }\n",
              "    </script>\n",
              "\n",
              "      <script>\n",
              "\n",
              "function displayQuickchartButton(domScope) {\n",
              "  let quickchartButtonEl =\n",
              "    domScope.querySelector('#df-4910ff7a-70b0-4e10-8460-65a548e3c8c1 button.colab-df-quickchart');\n",
              "  quickchartButtonEl.style.display =\n",
              "    google.colab.kernel.accessAllowed ? 'block' : 'none';\n",
              "}\n",
              "\n",
              "        displayQuickchartButton(document);\n",
              "      </script>\n",
              "      <style>\n",
              "    .colab-df-container {\n",
              "      display:flex;\n",
              "      flex-wrap:wrap;\n",
              "      gap: 12px;\n",
              "    }\n",
              "\n",
              "    .colab-df-convert {\n",
              "      background-color: #E8F0FE;\n",
              "      border: none;\n",
              "      border-radius: 50%;\n",
              "      cursor: pointer;\n",
              "      display: none;\n",
              "      fill: #1967D2;\n",
              "      height: 32px;\n",
              "      padding: 0 0 0 0;\n",
              "      width: 32px;\n",
              "    }\n",
              "\n",
              "    .colab-df-convert:hover {\n",
              "      background-color: #E2EBFA;\n",
              "      box-shadow: 0px 1px 2px rgba(60, 64, 67, 0.3), 0px 1px 3px 1px rgba(60, 64, 67, 0.15);\n",
              "      fill: #174EA6;\n",
              "    }\n",
              "\n",
              "    [theme=dark] .colab-df-convert {\n",
              "      background-color: #3B4455;\n",
              "      fill: #D2E3FC;\n",
              "    }\n",
              "\n",
              "    [theme=dark] .colab-df-convert:hover {\n",
              "      background-color: #434B5C;\n",
              "      box-shadow: 0px 1px 3px 1px rgba(0, 0, 0, 0.15);\n",
              "      filter: drop-shadow(0px 1px 2px rgba(0, 0, 0, 0.3));\n",
              "      fill: #FFFFFF;\n",
              "    }\n",
              "  </style>\n",
              "\n",
              "      <script>\n",
              "        const buttonEl =\n",
              "          document.querySelector('#df-c63f1a5f-adb3-480f-819b-dfd1be9c3ac4 button.colab-df-convert');\n",
              "        buttonEl.style.display =\n",
              "          google.colab.kernel.accessAllowed ? 'block' : 'none';\n",
              "\n",
              "        async function convertToInteractive(key) {\n",
              "          const element = document.querySelector('#df-c63f1a5f-adb3-480f-819b-dfd1be9c3ac4');\n",
              "          const dataTable =\n",
              "            await google.colab.kernel.invokeFunction('convertToInteractive',\n",
              "                                                     [key], {});\n",
              "          if (!dataTable) return;\n",
              "\n",
              "          const docLinkHtml = 'Like what you see? Visit the ' +\n",
              "            '<a target=\"_blank\" href=https://colab.research.google.com/notebooks/data_table.ipynb>data table notebook</a>'\n",
              "            + ' to learn more about interactive tables.';\n",
              "          element.innerHTML = '';\n",
              "          dataTable['output_type'] = 'display_data';\n",
              "          await google.colab.output.renderOutput(dataTable, element);\n",
              "          const docLink = document.createElement('div');\n",
              "          docLink.innerHTML = docLinkHtml;\n",
              "          element.appendChild(docLink);\n",
              "        }\n",
              "      </script>\n",
              "    </div>\n",
              "  </div>\n"
            ]
          },
          "metadata": {},
          "execution_count": 19
        }
      ]
    },
    {
      "cell_type": "markdown",
      "source": [
        "# Extract Features"
      ],
      "metadata": {
        "id": "4cxxPU-fJAdN"
      }
    },
    {
      "cell_type": "code",
      "source": [
        "# Create a LabelEncoder object\n",
        "encoder = LabelEncoder()\n",
        "\n",
        "# Fit the encoder to the labels and transform the labels\n",
        "df[\"label\"] = encoder.fit_transform(df[\"label\"])"
      ],
      "metadata": {
        "id": "sW1f5pGuxoS1"
      },
      "execution_count": null,
      "outputs": []
    },
    {
      "cell_type": "code",
      "execution_count": null,
      "metadata": {
        "id": "s_aEApOIJC05"
      },
      "outputs": [],
      "source": [
        "from sklearn.feature_extraction.text import TfidfVectorizer, CountVectorizer\n"
      ]
    },
    {
      "cell_type": "code",
      "execution_count": null,
      "metadata": {
        "id": "u9avPjtjMxCl"
      },
      "outputs": [],
      "source": [
        "tdidf_vect= TfidfVectorizer()\n",
        "tdidf = tdidf_vect.fit_transform(df['clean_text'])\n",
        "\n",
        "features_tdidf = pd.DataFrame(tdidf.toarray())\n",
        "features_tdidf.columns = tdidf_vect.get_feature_names_out()"
      ]
    },
    {
      "cell_type": "markdown",
      "source": [
        "# Machine Learning Model\n"
      ],
      "metadata": {
        "id": "au8yZqHg4ed8"
      }
    },
    {
      "cell_type": "code",
      "source": [
        "labels = df['label']\n",
        "features = pd.concat( [features_tdidf], axis=1)\n",
        "features.shape"
      ],
      "metadata": {
        "colab": {
          "base_uri": "https://localhost:8080/"
        },
        "id": "tQVzIol21p8i",
        "outputId": "3ceca938-7c0e-423b-9598-a7cccd5204e9"
      },
      "execution_count": null,
      "outputs": [
        {
          "output_type": "execute_result",
          "data": {
            "text/plain": [
              "(4000, 330)"
            ]
          },
          "metadata": {},
          "execution_count": 23
        }
      ]
    },
    {
      "cell_type": "markdown",
      "source": [
        "## Split Data"
      ],
      "metadata": {
        "id": "iTTTUivW1Jf_"
      }
    },
    {
      "cell_type": "code",
      "source": [
        "from sklearn.model_selection import train_test_split\n",
        "x_train, x_test, y_train, y_test = train_test_split(features, labels, test_size=0.25)\n",
        "print(x_train.shape, x_test.shape, y_train.shape, y_test.shape)"
      ],
      "metadata": {
        "colab": {
          "base_uri": "https://localhost:8080/"
        },
        "id": "0BCc1v9Z1MIB",
        "outputId": "f8b8b540-ccfe-44e1-ca94-66ee9ce8d07f"
      },
      "execution_count": null,
      "outputs": [
        {
          "output_type": "stream",
          "name": "stdout",
          "text": [
            "(3000, 330) (1000, 330) (3000,) (1000,)\n"
          ]
        }
      ]
    },
    {
      "cell_type": "markdown",
      "metadata": {
        "id": "icVn7ROWSS0c"
      },
      "source": [
        "## Selection Method"
      ]
    },
    {
      "cell_type": "markdown",
      "metadata": {
        "id": "4h6p2KEsSXx5"
      },
      "source": [
        "### Random Forest"
      ]
    },
    {
      "cell_type": "code",
      "execution_count": null,
      "metadata": {
        "colab": {
          "base_uri": "https://localhost:8080/"
        },
        "id": "e0mWwn54nEga",
        "outputId": "7ccc9760-9cb3-4117-d8f4-79586e81245c"
      },
      "outputs": [
        {
          "output_type": "stream",
          "name": "stdout",
          "text": [
            "1.0\n"
          ]
        }
      ],
      "source": [
        "from sklearn.ensemble import RandomForestClassifier\n",
        "model = RandomForestClassifier(n_jobs=-1)\n",
        "model.fit(x_train, y_train)\n",
        "print(model.score(x_test, y_test))"
      ]
    },
    {
      "cell_type": "markdown",
      "metadata": {
        "id": "2x-dWXRxSduN"
      },
      "source": [
        "### Naive Bayes"
      ]
    },
    {
      "cell_type": "code",
      "execution_count": null,
      "metadata": {
        "colab": {
          "base_uri": "https://localhost:8080/"
        },
        "id": "aBXQfPdsF1b1",
        "outputId": "0ecd2b65-3ebe-42cd-df90-8e90646d5a04"
      },
      "outputs": [
        {
          "output_type": "stream",
          "name": "stdout",
          "text": [
            "0.984\n"
          ]
        }
      ],
      "source": [
        "from sklearn.naive_bayes import MultinomialNB\n",
        "NBmodel = MultinomialNB()\n",
        "NBmodel.fit(x_train, y_train)\n",
        "print(NBmodel.score(x_test, y_test))"
      ]
    },
    {
      "cell_type": "markdown",
      "metadata": {
        "id": "ZhPo6HzhSmBY"
      },
      "source": [
        "### SVC"
      ]
    },
    {
      "cell_type": "code",
      "execution_count": null,
      "metadata": {
        "id": "pgR7GDVkF-3s",
        "colab": {
          "base_uri": "https://localhost:8080/"
        },
        "outputId": "33a28e89-969e-430c-8bf5-74f7813ec732"
      },
      "outputs": [
        {
          "output_type": "stream",
          "name": "stdout",
          "text": [
            "1.0\n"
          ]
        }
      ],
      "source": [
        "from sklearn import model_selection, naive_bayes, svm\n",
        "\n",
        "SVM_model = svm.SVC(C=1.0, kernel='linear', degree=3, gamma='auto')\n",
        "SVM_model.fit(x_train, y_train)\n",
        "print(SVM_model.score(x_test, y_test))"
      ]
    },
    {
      "cell_type": "code",
      "source": [
        "df"
      ],
      "metadata": {
        "colab": {
          "base_uri": "https://localhost:8080/",
          "height": 485
        },
        "id": "bENAwItm1fyt",
        "outputId": "75e6c4e1-78c1-498e-d57e-8ecb325f906b"
      },
      "execution_count": null,
      "outputs": [
        {
          "output_type": "execute_result",
          "data": {
            "text/plain": [
              "                                                                                                                                                                                                               Report  \\\n",
              "0                                                                                             This is John Doe from 9999 Ash Street. There's a multi-car pileup on the highway. It looks like there might be injuries   \n",
              "1                                                                                                                         Hello, I'm Jane Smith at 123 Main Street. I've just witnessed a car crash into a shop front   \n",
              "2                                                                                                            Help, I'm Isabella Jackson and I'm calling from 789 Pine Lane. A car just hit a pedestrian and drove off   \n",
              "3                                                                                                        Hello, this is Robert Johnson at 2345 Hickory Street. I just saw a car hit a cyclist. The driver didn't stop   \n",
              "4                                                                                                                            Emergency, this is Olivia Taylor from 789 Pine Lane. I just saw a car crash into a fence   \n",
              "...                                                                                                                                                                                                               ...   \n",
              "3995                                                                                                 Emergency, this is Amelia Thompson from 7777 Hemlock Circle. I just saw a group of people robbing a liquor store   \n",
              "3996                                                                                                                        Help, my name is James Brown. I'm at 5555 Walnut Street and my house was just broken into   \n",
              "3997                                                                                  Help, my name is Liam Williams. I'm at 8888 Alder Court and my purse was just snatched. A man on a bike grabbed it and rode off   \n",
              "3998  This is Emily Davis from 3456 Locust Way. I work at the bank and we've just been robbed. A man with a gun demanded all the money and then he fled the scene. I'm scared for my life and I don't know what to do   \n",
              "3999                                                                                                             Help, I'm Charlotte Martin and I'm calling from 1289 Birch Parkway. I just saw a man stealing a bike   \n",
              "\n",
              "      label  \\\n",
              "0         0   \n",
              "1         0   \n",
              "2         0   \n",
              "3         0   \n",
              "4         0   \n",
              "...     ...   \n",
              "3995      3   \n",
              "3996      3   \n",
              "3997      3   \n",
              "3998      3   \n",
              "3999      3   \n",
              "\n",
              "                                                                                            clean_text  \n",
              "0                             john doe ash street there multicar pileup highway look like might injuri  \n",
              "1                                         hello im jane smith main street ive wit car crash shop front  \n",
              "2                                  help im isabella jackson im call pine lane car hit pedestrian drove  \n",
              "3                            hello robert johnson hickori street saw car hit cyclist driver didnt stop  \n",
              "4                                                     emerg olivia taylor pine lane saw car crash fenc  \n",
              "...                                                                                                ...  \n",
              "3995                              emerg amelia thompson hemlock circl saw group peopl rob liquor store  \n",
              "3996                                                 help name jame brown im walnut street hous broken  \n",
              "3997                              help name liam william im alder court purs snatch man bike grab rode  \n",
              "3998  emili davi locust way work bank weve rob man gun demand money fled scene im scare life dont know  \n",
              "3999                                  help im charlott martin im call birch parkway saw man steal bike  \n",
              "\n",
              "[4000 rows x 3 columns]"
            ],
            "text/html": [
              "\n",
              "\n",
              "  <div id=\"df-5a04d66c-79e7-4228-a959-91715c3a9b6a\">\n",
              "    <div class=\"colab-df-container\">\n",
              "      <div>\n",
              "<style scoped>\n",
              "    .dataframe tbody tr th:only-of-type {\n",
              "        vertical-align: middle;\n",
              "    }\n",
              "\n",
              "    .dataframe tbody tr th {\n",
              "        vertical-align: top;\n",
              "    }\n",
              "\n",
              "    .dataframe thead th {\n",
              "        text-align: right;\n",
              "    }\n",
              "</style>\n",
              "<table border=\"1\" class=\"dataframe\">\n",
              "  <thead>\n",
              "    <tr style=\"text-align: right;\">\n",
              "      <th></th>\n",
              "      <th>Report</th>\n",
              "      <th>label</th>\n",
              "      <th>clean_text</th>\n",
              "    </tr>\n",
              "  </thead>\n",
              "  <tbody>\n",
              "    <tr>\n",
              "      <th>0</th>\n",
              "      <td>This is John Doe from 9999 Ash Street. There's a multi-car pileup on the highway. It looks like there might be injuries</td>\n",
              "      <td>0</td>\n",
              "      <td>john doe ash street there multicar pileup highway look like might injuri</td>\n",
              "    </tr>\n",
              "    <tr>\n",
              "      <th>1</th>\n",
              "      <td>Hello, I'm Jane Smith at 123 Main Street. I've just witnessed a car crash into a shop front</td>\n",
              "      <td>0</td>\n",
              "      <td>hello im jane smith main street ive wit car crash shop front</td>\n",
              "    </tr>\n",
              "    <tr>\n",
              "      <th>2</th>\n",
              "      <td>Help, I'm Isabella Jackson and I'm calling from 789 Pine Lane. A car just hit a pedestrian and drove off</td>\n",
              "      <td>0</td>\n",
              "      <td>help im isabella jackson im call pine lane car hit pedestrian drove</td>\n",
              "    </tr>\n",
              "    <tr>\n",
              "      <th>3</th>\n",
              "      <td>Hello, this is Robert Johnson at 2345 Hickory Street. I just saw a car hit a cyclist. The driver didn't stop</td>\n",
              "      <td>0</td>\n",
              "      <td>hello robert johnson hickori street saw car hit cyclist driver didnt stop</td>\n",
              "    </tr>\n",
              "    <tr>\n",
              "      <th>4</th>\n",
              "      <td>Emergency, this is Olivia Taylor from 789 Pine Lane. I just saw a car crash into a fence</td>\n",
              "      <td>0</td>\n",
              "      <td>emerg olivia taylor pine lane saw car crash fenc</td>\n",
              "    </tr>\n",
              "    <tr>\n",
              "      <th>...</th>\n",
              "      <td>...</td>\n",
              "      <td>...</td>\n",
              "      <td>...</td>\n",
              "    </tr>\n",
              "    <tr>\n",
              "      <th>3995</th>\n",
              "      <td>Emergency, this is Amelia Thompson from 7777 Hemlock Circle. I just saw a group of people robbing a liquor store</td>\n",
              "      <td>3</td>\n",
              "      <td>emerg amelia thompson hemlock circl saw group peopl rob liquor store</td>\n",
              "    </tr>\n",
              "    <tr>\n",
              "      <th>3996</th>\n",
              "      <td>Help, my name is James Brown. I'm at 5555 Walnut Street and my house was just broken into</td>\n",
              "      <td>3</td>\n",
              "      <td>help name jame brown im walnut street hous broken</td>\n",
              "    </tr>\n",
              "    <tr>\n",
              "      <th>3997</th>\n",
              "      <td>Help, my name is Liam Williams. I'm at 8888 Alder Court and my purse was just snatched. A man on a bike grabbed it and rode off</td>\n",
              "      <td>3</td>\n",
              "      <td>help name liam william im alder court purs snatch man bike grab rode</td>\n",
              "    </tr>\n",
              "    <tr>\n",
              "      <th>3998</th>\n",
              "      <td>This is Emily Davis from 3456 Locust Way. I work at the bank and we've just been robbed. A man with a gun demanded all the money and then he fled the scene. I'm scared for my life and I don't know what to do</td>\n",
              "      <td>3</td>\n",
              "      <td>emili davi locust way work bank weve rob man gun demand money fled scene im scare life dont know</td>\n",
              "    </tr>\n",
              "    <tr>\n",
              "      <th>3999</th>\n",
              "      <td>Help, I'm Charlotte Martin and I'm calling from 1289 Birch Parkway. I just saw a man stealing a bike</td>\n",
              "      <td>3</td>\n",
              "      <td>help im charlott martin im call birch parkway saw man steal bike</td>\n",
              "    </tr>\n",
              "  </tbody>\n",
              "</table>\n",
              "<p>4000 rows × 3 columns</p>\n",
              "</div>\n",
              "      <button class=\"colab-df-convert\" onclick=\"convertToInteractive('df-5a04d66c-79e7-4228-a959-91715c3a9b6a')\"\n",
              "              title=\"Convert this dataframe to an interactive table.\"\n",
              "              style=\"display:none;\">\n",
              "\n",
              "  <svg xmlns=\"http://www.w3.org/2000/svg\" height=\"24px\"viewBox=\"0 0 24 24\"\n",
              "       width=\"24px\">\n",
              "    <path d=\"M0 0h24v24H0V0z\" fill=\"none\"/>\n",
              "    <path d=\"M18.56 5.44l.94 2.06.94-2.06 2.06-.94-2.06-.94-.94-2.06-.94 2.06-2.06.94zm-11 1L8.5 8.5l.94-2.06 2.06-.94-2.06-.94L8.5 2.5l-.94 2.06-2.06.94zm10 10l.94 2.06.94-2.06 2.06-.94-2.06-.94-.94-2.06-.94 2.06-2.06.94z\"/><path d=\"M17.41 7.96l-1.37-1.37c-.4-.4-.92-.59-1.43-.59-.52 0-1.04.2-1.43.59L10.3 9.45l-7.72 7.72c-.78.78-.78 2.05 0 2.83L4 21.41c.39.39.9.59 1.41.59.51 0 1.02-.2 1.41-.59l7.78-7.78 2.81-2.81c.8-.78.8-2.07 0-2.86zM5.41 20L4 18.59l7.72-7.72 1.47 1.35L5.41 20z\"/>\n",
              "  </svg>\n",
              "      </button>\n",
              "\n",
              "\n",
              "\n",
              "    <div id=\"df-77348dc8-868c-44e1-bc4d-e4b45b8d93d3\">\n",
              "      <button class=\"colab-df-quickchart\" onclick=\"quickchart('df-77348dc8-868c-44e1-bc4d-e4b45b8d93d3')\"\n",
              "              title=\"Suggest charts.\"\n",
              "              style=\"display:none;\">\n",
              "\n",
              "<svg xmlns=\"http://www.w3.org/2000/svg\" height=\"24px\"viewBox=\"0 0 24 24\"\n",
              "     width=\"24px\">\n",
              "    <g>\n",
              "        <path d=\"M19 3H5c-1.1 0-2 .9-2 2v14c0 1.1.9 2 2 2h14c1.1 0 2-.9 2-2V5c0-1.1-.9-2-2-2zM9 17H7v-7h2v7zm4 0h-2V7h2v10zm4 0h-2v-4h2v4z\"/>\n",
              "    </g>\n",
              "</svg>\n",
              "      </button>\n",
              "    </div>\n",
              "\n",
              "<style>\n",
              "  .colab-df-quickchart {\n",
              "    background-color: #E8F0FE;\n",
              "    border: none;\n",
              "    border-radius: 50%;\n",
              "    cursor: pointer;\n",
              "    display: none;\n",
              "    fill: #1967D2;\n",
              "    height: 32px;\n",
              "    padding: 0 0 0 0;\n",
              "    width: 32px;\n",
              "  }\n",
              "\n",
              "  .colab-df-quickchart:hover {\n",
              "    background-color: #E2EBFA;\n",
              "    box-shadow: 0px 1px 2px rgba(60, 64, 67, 0.3), 0px 1px 3px 1px rgba(60, 64, 67, 0.15);\n",
              "    fill: #174EA6;\n",
              "  }\n",
              "\n",
              "  [theme=dark] .colab-df-quickchart {\n",
              "    background-color: #3B4455;\n",
              "    fill: #D2E3FC;\n",
              "  }\n",
              "\n",
              "  [theme=dark] .colab-df-quickchart:hover {\n",
              "    background-color: #434B5C;\n",
              "    box-shadow: 0px 1px 3px 1px rgba(0, 0, 0, 0.15);\n",
              "    filter: drop-shadow(0px 1px 2px rgba(0, 0, 0, 0.3));\n",
              "    fill: #FFFFFF;\n",
              "  }\n",
              "</style>\n",
              "\n",
              "    <script>\n",
              "      async function quickchart(key) {\n",
              "        const containerElement = document.querySelector('#' + key);\n",
              "        const charts = await google.colab.kernel.invokeFunction(\n",
              "            'suggestCharts', [key], {});\n",
              "      }\n",
              "    </script>\n",
              "\n",
              "      <script>\n",
              "\n",
              "function displayQuickchartButton(domScope) {\n",
              "  let quickchartButtonEl =\n",
              "    domScope.querySelector('#df-77348dc8-868c-44e1-bc4d-e4b45b8d93d3 button.colab-df-quickchart');\n",
              "  quickchartButtonEl.style.display =\n",
              "    google.colab.kernel.accessAllowed ? 'block' : 'none';\n",
              "}\n",
              "\n",
              "        displayQuickchartButton(document);\n",
              "      </script>\n",
              "      <style>\n",
              "    .colab-df-container {\n",
              "      display:flex;\n",
              "      flex-wrap:wrap;\n",
              "      gap: 12px;\n",
              "    }\n",
              "\n",
              "    .colab-df-convert {\n",
              "      background-color: #E8F0FE;\n",
              "      border: none;\n",
              "      border-radius: 50%;\n",
              "      cursor: pointer;\n",
              "      display: none;\n",
              "      fill: #1967D2;\n",
              "      height: 32px;\n",
              "      padding: 0 0 0 0;\n",
              "      width: 32px;\n",
              "    }\n",
              "\n",
              "    .colab-df-convert:hover {\n",
              "      background-color: #E2EBFA;\n",
              "      box-shadow: 0px 1px 2px rgba(60, 64, 67, 0.3), 0px 1px 3px 1px rgba(60, 64, 67, 0.15);\n",
              "      fill: #174EA6;\n",
              "    }\n",
              "\n",
              "    [theme=dark] .colab-df-convert {\n",
              "      background-color: #3B4455;\n",
              "      fill: #D2E3FC;\n",
              "    }\n",
              "\n",
              "    [theme=dark] .colab-df-convert:hover {\n",
              "      background-color: #434B5C;\n",
              "      box-shadow: 0px 1px 3px 1px rgba(0, 0, 0, 0.15);\n",
              "      filter: drop-shadow(0px 1px 2px rgba(0, 0, 0, 0.3));\n",
              "      fill: #FFFFFF;\n",
              "    }\n",
              "  </style>\n",
              "\n",
              "      <script>\n",
              "        const buttonEl =\n",
              "          document.querySelector('#df-5a04d66c-79e7-4228-a959-91715c3a9b6a button.colab-df-convert');\n",
              "        buttonEl.style.display =\n",
              "          google.colab.kernel.accessAllowed ? 'block' : 'none';\n",
              "\n",
              "        async function convertToInteractive(key) {\n",
              "          const element = document.querySelector('#df-5a04d66c-79e7-4228-a959-91715c3a9b6a');\n",
              "          const dataTable =\n",
              "            await google.colab.kernel.invokeFunction('convertToInteractive',\n",
              "                                                     [key], {});\n",
              "          if (!dataTable) return;\n",
              "\n",
              "          const docLinkHtml = 'Like what you see? Visit the ' +\n",
              "            '<a target=\"_blank\" href=https://colab.research.google.com/notebooks/data_table.ipynb>data table notebook</a>'\n",
              "            + ' to learn more about interactive tables.';\n",
              "          element.innerHTML = '';\n",
              "          dataTable['output_type'] = 'display_data';\n",
              "          await google.colab.output.renderOutput(dataTable, element);\n",
              "          const docLink = document.createElement('div');\n",
              "          docLink.innerHTML = docLinkHtml;\n",
              "          element.appendChild(docLink);\n",
              "        }\n",
              "      </script>\n",
              "    </div>\n",
              "  </div>\n"
            ]
          },
          "metadata": {},
          "execution_count": 28
        }
      ]
    },
    {
      "cell_type": "markdown",
      "source": [
        "# Prediction"
      ],
      "metadata": {
        "id": "fESK_vUo4ELJ"
      }
    },
    {
      "cell_type": "code",
      "source": [
        "new_text = input(\"enter the text:\")\n",
        "\n",
        "\n",
        "new_text = clean_text(new_text)\n",
        "print(\"The Cleaned Text: \",new_text)\n",
        "\n",
        "\n",
        "# Vectorize the new text using the same vectorizer\n",
        "new_text_vectorized = tdidf_vect.transform([new_text])\n",
        "\n",
        "\n",
        "# Make the prediction\n",
        "prediction = model.predict(new_text_vectorized)\n",
        "prediction_proba = model.predict_proba(new_text_vectorized)\n",
        "\n",
        "# Get the probability of the predicted class label\n",
        "class_index = prediction[0]\n",
        "\n",
        "\n",
        "# Get the probability of the predicted class label\n",
        "confidence = prediction_proba[0, class_index]\n",
        "\n",
        "# Convert the prediction to the corresponding class label\n",
        "if prediction[0]== 0:\n",
        "  p = \"car accidents\"\n",
        "elif prediction[0]== 1:\n",
        "  p= \"crime\"\n",
        "elif prediction[0]== 2:\n",
        "  p = \"fire\"\n",
        "else:\n",
        "  p= \"robbery\"\n",
        "\n",
        "print(\"Predicted class label:\", p)\n",
        "print(\"Confidence:\", confidence)"
      ],
      "metadata": {
        "id": "X6t87bPl2n9Q",
        "colab": {
          "base_uri": "https://localhost:8080/"
        },
        "outputId": "b293b2de-5179-4291-df5a-61e4c6d4c4f3"
      },
      "execution_count": null,
      "outputs": [
        {
          "output_type": "stream",
          "name": "stdout",
          "text": [
            "enter the text:هناك حادث حريق\n",
            "The Cleaned Text:  هناك حادث حريق\n",
            "Predicted class label: crime\n",
            "Confidence: 0.5\n"
          ]
        },
        {
          "output_type": "stream",
          "name": "stderr",
          "text": [
            "/usr/local/lib/python3.10/dist-packages/sklearn/base.py:439: UserWarning: X does not have valid feature names, but RandomForestClassifier was fitted with feature names\n",
            "  warnings.warn(\n"
          ]
        }
      ]
    }
  ]
}